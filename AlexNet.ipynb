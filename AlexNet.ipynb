{
 "cells": [
  {
   "cell_type": "code",
   "execution_count": 1,
   "id": "9aafa082",
   "metadata": {},
   "outputs": [],
   "source": [
    "import torch\n",
    "import torch.nn as nn\n",
    "import torch.nn.functional as F\n",
    "import torch.optim as optim\n",
    "from torch.utils.data import DataLoader\n",
    "from torchvision import datasets, transforms\n",
    "from train_utils import train, test\n",
    "import matplotlib.pyplot as plt\n",
    "from test_fun import train,test,main"
   ]
  },
  {
   "cell_type": "code",
   "execution_count": 2,
   "id": "fd3aabd9",
   "metadata": {},
   "outputs": [
    {
     "name": "stdout",
     "output_type": "stream",
     "text": [
      "training set:50000,test set:10000\n",
      "\n"
     ]
    }
   ],
   "source": [
    "train_dataset = datasets.CIFAR10('./data/cifar', train=True, \n",
    "                                download=False,\n",
    "                                transform=transforms.ToTensor())\n",
    "test_dataset = datasets.CIFAR10('./data/cifar', train=False,\n",
    "                               transform=transforms.ToTensor())\n",
    "\n",
    "print(\"training set:{},test set:{}\\n\".format(\n",
    "    len(train_dataset),len(test_dataset)))"
   ]
  },
  {
   "cell_type": "code",
   "execution_count": 3,
   "id": "937246bc",
   "metadata": {},
   "outputs": [
    {
     "name": "stdout",
     "output_type": "stream",
     "text": [
      "Target:plane\n",
      "Size of Image:torch.Size([3, 32, 32])\n"
     ]
    },
    {
     "data": {
      "image/png": "[encoded data removed]",
      "text/plain": [
       "<Figure size 432x288 with 1 Axes>"
      ]
     },
     "metadata": {
      "needs_background": "light"
     },
     "output_type": "display_data"
    }
   ],
   "source": [
    "classes = ('plane','car','bird','cat','deer',\n",
    "          'dog','frog','horse','ship','truck')\n",
    "\n",
    "idx = torch.randint(0,len(train_dataset),(1,)).item()\n",
    "random_image = train_dataset[idx][0]\n",
    "target_num = train_dataset[idx][1]\n",
    "\n",
    "print('Target:{}'.format(classes[target_num]))\n",
    "print('Size of Image:{}'.format(random_image.size()))\n",
    "\n",
    "plt.imshow(random_image.numpy().transpose(1,2,0))\n",
    "plt.axis(\"off\")\n",
    "plt.show()"
   ]
  },
  {
   "cell_type": "code",
   "execution_count": 4,
   "id": "c89b57d2",
   "metadata": {},
   "outputs": [
    {
     "name": "stdout",
     "output_type": "stream",
     "text": [
      "cuda\n"
     ]
    }
   ],
   "source": [
    "BATCH = 128\n",
    "DEVICE = 'cuda' if torch.cuda.is_available() else 'cpu'\n",
    "print(DEVICE)\n",
    "STEP = 50\n",
    "PRINT_STEP = 180"
   ]
  },
  {
   "cell_type": "code",
   "execution_count": 5,
   "id": "99c4826b",
   "metadata": {},
   "outputs": [],
   "source": [
    "train_loader = DataLoader(train_dataset,batch_size=BATCH,shuffle=True)\n",
    "test_loader = DataLoader(test_dataset,batch_size=BATCH,shuffle=True)"
   ]
  },
  {
   "cell_type": "code",
   "execution_count": 28,
   "id": "94a891f7",
   "metadata": {},
   "outputs": [],
   "source": [
    "class AlexNet(nn.Module):\n",
    "    def __init__(self, num_classes=10):\n",
    "        super(AlexNet, self).__init__()\n",
    "        self.features = nn.Sequential(\n",
    "            nn.Conv2d(3, 64, kernel_size=3, stride=2, padding=1),\n",
    "            nn.ReLU(inplace=True),\n",
    "            nn.MaxPool2d(kernel_size=2),\n",
    "            nn.Conv2d(64, 192, kernel_size=3, padding=1),\n",
    "            nn.ReLU(inplace=True),\n",
    "            nn.MaxPool2d(kernel_size=2),\n",
    "            nn.Conv2d(192, 384, kernel_size=3, padding=1),\n",
    "            nn.ReLU(inplace=True),\n",
    "            nn.Conv2d(384, 256, kernel_size=3, padding=1),\n",
    "            nn.ReLU(inplace=True),\n",
    "            nn.Conv2d(256, 256, kernel_size=3, padding=1),\n",
    "            nn.ReLU(inplace=True),\n",
    "            nn.MaxPool2d(kernel_size=2),\n",
    "        )\n",
    "        self.classifier = nn.Sequential(\n",
    "            nn.Dropout(),\n",
    "            nn.Linear(256 * 2 * 2, 4096),\n",
    "            nn.ReLU(inplace=True),\n",
    "            nn.Dropout(),\n",
    "            nn.Linear(4096, 4096),\n",
    "            nn.ReLU(inplace=True),\n",
    "            nn.Linear(4096, num_classes),\n",
    "        )\n",
    "\n",
    "    def forward(self, x):\n",
    "        x = self.features(x)\n",
    "        x = x.view(x.size(0), 256 * 2 * 2)\n",
    "        x = self.classifier(x)\n",
    "        return x"
   ]
  },
  {
   "cell_type": "code",
   "execution_count": 29,
   "id": "752fa7ae",
   "metadata": {},
   "outputs": [],
   "source": [
    "model = AlexNet(10).to(DEVICE)\n",
    "loss_function = nn.CrossEntropyLoss()\n",
    "optimizer = optim.Adam(model.parameters())"
   ]
  },
  {
   "cell_type": "code",
   "execution_count": 30,
   "id": "8d7e6f44",
   "metadata": {},
   "outputs": [
    {
     "data": {
      "text/plain": [
       "<bound method Module.parameters of AlexNet(\n",
       "  (features): Sequential(\n",
       "    (0): Conv2d(3, 64, kernel_size=(3, 3), stride=(2, 2), padding=(1, 1))\n",
       "    (1): ReLU(inplace=True)\n",
       "    (2): MaxPool2d(kernel_size=2, stride=2, padding=0, dilation=1, ceil_mode=False)\n",
       "    (3): Conv2d(64, 192, kernel_size=(3, 3), stride=(1, 1), padding=(1, 1))\n",
       "    (4): ReLU(inplace=True)\n",
       "    (5): MaxPool2d(kernel_size=2, stride=2, padding=0, dilation=1, ceil_mode=False)\n",
       "    (6): Conv2d(192, 384, kernel_size=(3, 3), stride=(1, 1), padding=(1, 1))\n",
       "    (7): ReLU(inplace=True)\n",
       "    (8): Conv2d(384, 256, kernel_size=(3, 3), stride=(1, 1), padding=(1, 1))\n",
       "    (9): ReLU(inplace=True)\n",
       "    (10): Conv2d(256, 256, kernel_size=(3, 3), stride=(1, 1), padding=(1, 1))\n",
       "    (11): ReLU(inplace=True)\n",
       "    (12): MaxPool2d(kernel_size=2, stride=2, padding=0, dilation=1, ceil_mode=False)\n",
       "  )\n",
       "  (classifier): Sequential(\n",
       "    (0): Dropout(p=0.5, inplace=False)\n",
       "    (1): Linear(in_features=1024, out_features=4096, bias=True)\n",
       "    (2): ReLU(inplace=True)\n",
       "    (3): Dropout(p=0.5, inplace=False)\n",
       "    (4): Linear(in_features=4096, out_features=4096, bias=True)\n",
       "    (5): ReLU(inplace=True)\n",
       "    (6): Linear(in_features=4096, out_features=10, bias=True)\n",
       "  )\n",
       ")>"
      ]
     },
     "execution_count": 30,
     "metadata": {},
     "output_type": "execute_result"
    }
   ],
   "source": [
    "model.parameters"
   ]
  },
  {
   "cell_type": "code",
   "execution_count": 31,
   "id": "e67f0a7a",
   "metadata": {},
   "outputs": [
    {
     "name": "stdout",
     "output_type": "stream",
     "text": [
      "Total number of parameters:23272266\n"
     ]
    }
   ],
   "source": [
    "num_params = 0 \n",
    "for params in model.parameters():\n",
    "    num_params += params.view(-1).size(0)\n",
    "print('Total number of parameters:{}'.format(num_params))"
   ]
  },
  {
   "cell_type": "code",
   "execution_count": 32,
   "id": "6c57976c",
   "metadata": {
    "scrolled": true
   },
   "outputs": [
    {
     "name": "stdout",
     "output_type": "stream",
     "text": [
      "Train Step: 1 (00.00%)  \tLoss: 2.3027\n",
      "Train Step: 1 (46.08%)  \tLoss: 1.8058\n",
      "Train Step: 1 (92.16%)  \tLoss: 1.5497\n",
      "Test Set: Average loss:1.5624,Accuracy:4232/10000(42.32%)\n",
      "\n",
      "Train Step: 2 (00.00%)  \tLoss: 1.5467\n",
      "Train Step: 2 (46.08%)  \tLoss: 1.4159\n",
      "Train Step: 2 (92.16%)  \tLoss: 1.3520\n",
      "Test Set: Average loss:1.2589,Accuracy:5451/10000(54.51%)\n",
      "discard previous state, best model state saved!\n",
      "\n",
      "Train Step: 3 (00.00%)  \tLoss: 1.2644\n",
      "Train Step: 3 (46.08%)  \tLoss: 1.1662\n",
      "Train Step: 3 (92.16%)  \tLoss: 1.1432\n",
      "Test Set: Average loss:1.1783,Accuracy:5895/10000(58.95%)\n",
      "discard previous state, best model state saved!\n",
      "\n",
      "Train Step: 4 (00.00%)  \tLoss: 1.0250\n",
      "Train Step: 4 (46.08%)  \tLoss: 1.3104\n",
      "Train Step: 4 (92.16%)  \tLoss: 0.9245\n",
      "Test Set: Average loss:1.1018,Accuracy:6102/10000(61.02%)\n",
      "discard previous state, best model state saved!\n",
      "\n",
      "Train Step: 5 (00.00%)  \tLoss: 0.9894\n",
      "Train Step: 5 (46.08%)  \tLoss: 1.3780\n",
      "Train Step: 5 (92.16%)  \tLoss: 1.0221\n",
      "Test Set: Average loss:1.0230,Accuracy:6386/10000(63.86%)\n",
      "discard previous state, best model state saved!\n",
      "\n",
      "Train Step: 6 (00.00%)  \tLoss: 0.8910\n",
      "Train Step: 6 (46.08%)  \tLoss: 0.8492\n",
      "Train Step: 6 (92.16%)  \tLoss: 0.9395\n",
      "Test Set: Average loss:0.9967,Accuracy:6509/10000(65.09%)\n",
      "discard previous state, best model state saved!\n",
      "\n",
      "Train Step: 7 (00.00%)  \tLoss: 0.8097\n",
      "Train Step: 7 (46.08%)  \tLoss: 1.1410\n",
      "Train Step: 7 (92.16%)  \tLoss: 0.8408\n",
      "Test Set: Average loss:0.9732,Accuracy:6646/10000(66.46%)\n",
      "discard previous state, best model state saved!\n",
      "\n",
      "Train Step: 8 (00.00%)  \tLoss: 0.8100\n",
      "Train Step: 8 (46.08%)  \tLoss: 0.6348\n",
      "Train Step: 8 (92.16%)  \tLoss: 0.7792\n",
      "Test Set: Average loss:0.9467,Accuracy:6774/10000(67.74%)\n",
      "discard previous state, best model state saved!\n",
      "\n",
      "Train Step: 9 (00.00%)  \tLoss: 0.6849\n",
      "Train Step: 9 (46.08%)  \tLoss: 0.8206\n",
      "Train Step: 9 (92.16%)  \tLoss: 0.7143\n",
      "Test Set: Average loss:1.0435,Accuracy:6490/10000(64.90%)\n",
      "\n",
      "Train Step: 10 (00.00%)  \tLoss: 0.6680\n",
      "Train Step: 10 (46.08%)  \tLoss: 0.6830\n",
      "Train Step: 10 (92.16%)  \tLoss: 0.8289\n",
      "Test Set: Average loss:0.9647,Accuracy:6823/10000(68.23%)\n",
      "discard previous state, best model state saved!\n",
      "\n",
      "Train Step: 11 (00.00%)  \tLoss: 0.8153\n",
      "Train Step: 11 (46.08%)  \tLoss: 0.6254\n",
      "Train Step: 11 (92.16%)  \tLoss: 0.5433\n",
      "Test Set: Average loss:1.0045,Accuracy:6785/10000(67.85%)\n",
      "\n",
      "Train Step: 12 (00.00%)  \tLoss: 0.6514\n",
      "Train Step: 12 (46.08%)  \tLoss: 0.5612\n",
      "Train Step: 12 (92.16%)  \tLoss: 0.5254\n",
      "Test Set: Average loss:0.9828,Accuracy:6872/10000(68.72%)\n",
      "discard previous state, best model state saved!\n",
      "\n",
      "Train Step: 13 (00.00%)  \tLoss: 0.3777\n",
      "Train Step: 13 (46.08%)  \tLoss: 0.6827\n",
      "Train Step: 13 (92.16%)  \tLoss: 0.4900\n",
      "Test Set: Average loss:0.9835,Accuracy:6882/10000(68.82%)\n",
      "discard previous state, best model state saved!\n",
      "\n",
      "Train Step: 14 (00.00%)  \tLoss: 0.4381\n",
      "Train Step: 14 (46.08%)  \tLoss: 0.4166\n",
      "Train Step: 14 (92.16%)  \tLoss: 0.4587\n",
      "Test Set: Average loss:1.1095,Accuracy:6805/10000(68.05%)\n",
      "\n",
      "Train Step: 15 (00.00%)  \tLoss: 0.4545\n",
      "Train Step: 15 (46.08%)  \tLoss: 0.6106\n",
      "Train Step: 15 (92.16%)  \tLoss: 0.4229\n",
      "Test Set: Average loss:1.0776,Accuracy:6875/10000(68.75%)\n",
      "\n",
      "Train Step: 16 (00.00%)  \tLoss: 0.3369\n",
      "Train Step: 16 (46.08%)  \tLoss: 0.3289\n",
      "Train Step: 16 (92.16%)  \tLoss: 0.4713\n",
      "Test Set: Average loss:1.0804,Accuracy:6881/10000(68.81%)\n",
      "\n",
      "Train Step: 17 (00.00%)  \tLoss: 0.3112\n",
      "Train Step: 17 (46.08%)  \tLoss: 0.2860\n",
      "Train Step: 17 (92.16%)  \tLoss: 0.4838\n",
      "Test Set: Average loss:1.1892,Accuracy:6748/10000(67.48%)\n",
      "\n",
      "Train Step: 18 (00.00%)  \tLoss: 0.5160\n",
      "Train Step: 18 (46.08%)  \tLoss: 0.3532\n",
      "Train Step: 18 (92.16%)  \tLoss: 0.3670\n",
      "Test Set: Average loss:1.1972,Accuracy:6770/10000(67.70%)\n",
      "\n",
      "Train Step: 19 (00.00%)  \tLoss: 0.2301\n",
      "Train Step: 19 (46.08%)  \tLoss: 0.4178\n",
      "Train Step: 19 (92.16%)  \tLoss: 0.2397\n",
      "Test Set: Average loss:1.2705,Accuracy:6748/10000(67.48%)\n",
      "\n",
      "Train Step: 20 (00.00%)  \tLoss: 0.3423\n",
      "Train Step: 20 (46.08%)  \tLoss: 0.4153\n",
      "Train Step: 20 (92.16%)  \tLoss: 0.3569\n",
      "Test Set: Average loss:1.3828,Accuracy:6731/10000(67.31%)\n",
      "\n",
      "Train Step: 21 (00.00%)  \tLoss: 0.3195\n",
      "Train Step: 21 (46.08%)  \tLoss: 0.2258\n",
      "Train Step: 21 (92.16%)  \tLoss: 0.2815\n",
      "Test Set: Average loss:1.3592,Accuracy:6775/10000(67.75%)\n",
      "\n",
      "Train Step: 22 (00.00%)  \tLoss: 0.1849\n",
      "Train Step: 22 (46.08%)  \tLoss: 0.1924\n",
      "Train Step: 22 (92.16%)  \tLoss: 0.3712\n",
      "Test Set: Average loss:1.3336,Accuracy:6875/10000(68.75%)\n",
      "\n",
      "Train Step: 23 (00.00%)  \tLoss: 0.1901\n",
      "Train Step: 23 (46.08%)  \tLoss: 0.3607\n",
      "Train Step: 23 (92.16%)  \tLoss: 0.2496\n",
      "Test Set: Average loss:1.3808,Accuracy:6774/10000(67.74%)\n",
      "\n",
      "Train Step: 24 (00.00%)  \tLoss: 0.1860\n",
      "Train Step: 24 (46.08%)  \tLoss: 0.1782\n",
      "Train Step: 24 (92.16%)  \tLoss: 0.1956\n",
      "Test Set: Average loss:1.4490,Accuracy:6770/10000(67.70%)\n",
      "\n",
      "Train Step: 25 (00.00%)  \tLoss: 0.1795\n",
      "Train Step: 25 (46.08%)  \tLoss: 0.2030\n",
      "Train Step: 25 (92.16%)  \tLoss: 0.1842\n",
      "Test Set: Average loss:1.4813,Accuracy:6793/10000(67.93%)\n",
      "\n",
      "Train Step: 26 (00.00%)  \tLoss: 0.1392\n",
      "Train Step: 26 (46.08%)  \tLoss: 0.1623\n",
      "Train Step: 26 (92.16%)  \tLoss: 0.3243\n",
      "Test Set: Average loss:1.4362,Accuracy:6857/10000(68.57%)\n",
      "\n",
      "Train Step: 27 (00.00%)  \tLoss: 0.2292\n",
      "Train Step: 27 (46.08%)  \tLoss: 0.1807\n",
      "Train Step: 27 (92.16%)  \tLoss: 0.1980\n",
      "Test Set: Average loss:1.5580,Accuracy:6823/10000(68.23%)\n",
      "\n",
      "Train Step: 28 (00.00%)  \tLoss: 0.1352\n",
      "Train Step: 28 (46.08%)  \tLoss: 0.1717\n",
      "Train Step: 28 (92.16%)  \tLoss: 0.1703\n",
      "Test Set: Average loss:1.5207,Accuracy:6772/10000(67.72%)\n",
      "\n",
      "Train Step: 29 (00.00%)  \tLoss: 0.1862\n",
      "Train Step: 29 (46.08%)  \tLoss: 0.2601\n",
      "Train Step: 29 (92.16%)  \tLoss: 0.0744\n",
      "Test Set: Average loss:1.5821,Accuracy:6827/10000(68.27%)\n",
      "\n",
      "Train Step: 30 (00.00%)  \tLoss: 0.1054\n",
      "Train Step: 30 (46.08%)  \tLoss: 0.1618\n",
      "Train Step: 30 (92.16%)  \tLoss: 0.1232\n",
      "Test Set: Average loss:1.5856,Accuracy:6733/10000(67.33%)\n",
      "\n",
      "Train Step: 31 (00.00%)  \tLoss: 0.2142\n",
      "Train Step: 31 (46.08%)  \tLoss: 0.1805\n",
      "Train Step: 31 (92.16%)  \tLoss: 0.2794\n",
      "Test Set: Average loss:1.7043,Accuracy:6710/10000(67.10%)\n",
      "\n",
      "Train Step: 32 (00.00%)  \tLoss: 0.1569\n",
      "Train Step: 32 (46.08%)  \tLoss: 0.0696\n",
      "Train Step: 32 (92.16%)  \tLoss: 0.1972\n",
      "Test Set: Average loss:1.5716,Accuracy:6821/10000(68.21%)\n",
      "\n",
      "Train Step: 33 (00.00%)  \tLoss: 0.2132\n",
      "Train Step: 33 (46.08%)  \tLoss: 0.2210\n",
      "Train Step: 33 (92.16%)  \tLoss: 0.1043\n",
      "Test Set: Average loss:1.6879,Accuracy:6798/10000(67.98%)\n",
      "\n",
      "Train Step: 34 (00.00%)  \tLoss: 0.0929\n",
      "Train Step: 34 (46.08%)  \tLoss: 0.1311\n",
      "Train Step: 34 (92.16%)  \tLoss: 0.1234\n",
      "Test Set: Average loss:1.8036,Accuracy:6716/10000(67.16%)\n",
      "\n",
      "Train Step: 35 (00.00%)  \tLoss: 0.2096\n",
      "Train Step: 35 (46.08%)  \tLoss: 0.1036\n",
      "Train Step: 35 (92.16%)  \tLoss: 0.2152\n",
      "Test Set: Average loss:1.7341,Accuracy:6745/10000(67.45%)\n",
      "\n",
      "Train Step: 36 (00.00%)  \tLoss: 0.1003\n",
      "Train Step: 36 (46.08%)  \tLoss: 0.0560\n",
      "Train Step: 36 (92.16%)  \tLoss: 0.1915\n",
      "Test Set: Average loss:1.8980,Accuracy:6855/10000(68.55%)\n",
      "\n",
      "Train Step: 37 (00.00%)  \tLoss: 0.1444\n",
      "Train Step: 37 (46.08%)  \tLoss: 0.1561\n",
      "Train Step: 37 (92.16%)  \tLoss: 0.2545\n",
      "Test Set: Average loss:1.7797,Accuracy:6794/10000(67.94%)\n",
      "\n",
      "Train Step: 38 (00.00%)  \tLoss: 0.1186\n",
      "Train Step: 38 (46.08%)  \tLoss: 0.1268\n",
      "Train Step: 38 (92.16%)  \tLoss: 0.1469\n",
      "Test Set: Average loss:1.7568,Accuracy:6811/10000(68.11%)\n",
      "\n",
      "Train Step: 39 (00.00%)  \tLoss: 0.1497\n",
      "Train Step: 39 (46.08%)  \tLoss: 0.0727\n",
      "Train Step: 39 (92.16%)  \tLoss: 0.1211\n",
      "Test Set: Average loss:1.8164,Accuracy:6772/10000(67.72%)\n",
      "\n",
      "Train Step: 40 (00.00%)  \tLoss: 0.1221\n",
      "Train Step: 40 (46.08%)  \tLoss: 0.1331\n",
      "Train Step: 40 (92.16%)  \tLoss: 0.2202\n",
      "Test Set: Average loss:1.8559,Accuracy:6758/10000(67.58%)\n",
      "\n",
      "Train Step: 41 (00.00%)  \tLoss: 0.1213\n",
      "Train Step: 41 (46.08%)  \tLoss: 0.1084\n",
      "Train Step: 41 (92.16%)  \tLoss: 0.1449\n",
      "Test Set: Average loss:1.7889,Accuracy:6787/10000(67.87%)\n",
      "\n",
      "Train Step: 42 (00.00%)  \tLoss: 0.1011\n",
      "Train Step: 42 (46.08%)  \tLoss: 0.1125\n",
      "Train Step: 42 (92.16%)  \tLoss: 0.2357\n",
      "Test Set: Average loss:1.7549,Accuracy:6803/10000(68.03%)\n",
      "\n",
      "Train Step: 43 (00.00%)  \tLoss: 0.0628\n",
      "Train Step: 43 (46.08%)  \tLoss: 0.1261\n",
      "Train Step: 43 (92.16%)  \tLoss: 0.1166\n",
      "Test Set: Average loss:1.9467,Accuracy:6840/10000(68.40%)\n",
      "\n",
      "Train Step: 44 (00.00%)  \tLoss: 0.1115\n",
      "Train Step: 44 (46.08%)  \tLoss: 0.0886\n",
      "Train Step: 44 (92.16%)  \tLoss: 0.1116\n",
      "Test Set: Average loss:1.7825,Accuracy:6786/10000(67.86%)\n",
      "\n",
      "Train Step: 45 (00.00%)  \tLoss: 0.1162\n"
     ]
    },
    {
     "name": "stdout",
     "output_type": "stream",
     "text": [
      "Train Step: 45 (46.08%)  \tLoss: 0.1334\n",
      "Train Step: 45 (92.16%)  \tLoss: 0.0618\n",
      "Test Set: Average loss:1.9007,Accuracy:6681/10000(66.81%)\n",
      "\n",
      "Train Step: 46 (00.00%)  \tLoss: 0.0977\n",
      "Train Step: 46 (46.08%)  \tLoss: 0.0635\n",
      "Train Step: 46 (92.16%)  \tLoss: 0.1021\n",
      "Test Set: Average loss:1.7620,Accuracy:6729/10000(67.29%)\n",
      "\n",
      "Train Step: 47 (00.00%)  \tLoss: 0.1106\n",
      "Train Step: 47 (46.08%)  \tLoss: 0.2449\n",
      "Train Step: 47 (92.16%)  \tLoss: 0.1535\n",
      "Test Set: Average loss:1.8744,Accuracy:6741/10000(67.41%)\n",
      "\n",
      "Train Step: 48 (00.00%)  \tLoss: 0.1695\n",
      "Train Step: 48 (46.08%)  \tLoss: 0.0897\n",
      "Train Step: 48 (92.16%)  \tLoss: 0.1033\n",
      "Test Set: Average loss:2.1150,Accuracy:6655/10000(66.55%)\n",
      "\n",
      "Train Step: 49 (00.00%)  \tLoss: 0.0393\n",
      "Train Step: 49 (46.08%)  \tLoss: 0.1503\n",
      "Train Step: 49 (92.16%)  \tLoss: 0.1774\n",
      "Test Set: Average loss:1.9119,Accuracy:6792/10000(67.92%)\n",
      "\n",
      "Train Step: 50 (00.00%)  \tLoss: 0.1144\n",
      "Train Step: 50 (46.08%)  \tLoss: 0.0646\n",
      "Train Step: 50 (92.16%)  \tLoss: 0.0718\n",
      "Test Set: Average loss:2.0748,Accuracy:6681/10000(66.81%)\n",
      "\n"
     ]
    }
   ],
   "source": [
    "main(model=model,\n",
    "    train_loader=train_loader,\n",
    "    test_loader=test_loader,\n",
    "    loss_func=loss_function,\n",
    "    optimizer=optimizer,\n",
    "    n_step=STEP,\n",
    "    device=DEVICE,\n",
    "    save_path='AlexNet_model.pt',\n",
    "    print_step=PRINT_STEP)"
   ]
  },
  {
   "cell_type": "code",
   "execution_count": 33,
   "id": "bd1b9ff4",
   "metadata": {},
   "outputs": [
    {
     "data": {
      "text/plain": [
       "<All keys matched successfully>"
      ]
     },
     "execution_count": 33,
     "metadata": {},
     "output_type": "execute_result"
    }
   ],
   "source": [
    "model_path = './AlexNet_model.pt'\n",
    "model.load_state_dict(torch.load(model_path))"
   ]
  },
  {
   "cell_type": "code",
   "execution_count": 34,
   "id": "f681b71e",
   "metadata": {},
   "outputs": [],
   "source": [
    "def cal_correct_by_class(model,test_loader,device):\n",
    "    total = torch.zeros(10)\n",
    "    correct = torch.zeros(10)\n",
    "    with torch.no_grad():\n",
    "        for data, target in test_loader:\n",
    "            output = model(data.to(device))\n",
    "            pred = output.cpu().softmax(1).argmax(1)\n",
    "            correct_idx = pred.masked_select((pred==target))\n",
    "            correct += torch.zeros(correct_idx.size(0),10)\\\n",
    "                                  .scatter(1,correct_idx.view(-1,1),1).sum(0)\n",
    "            total += torch.zeros(target.size(0),10).scatter(\n",
    "                1,target.view(-1,1),1).sum(0)\n",
    "            \n",
    "    percentage = correct/total\n",
    "    return percentage"
   ]
  },
  {
   "cell_type": "code",
   "execution_count": 35,
   "id": "fefd459a",
   "metadata": {},
   "outputs": [
    {
     "name": "stdout",
     "output_type": "stream",
     "text": [
      "plane \t:74.70%\n",
      "car \t:71.50%\n",
      "bird \t:57.00%\n",
      "cat \t:50.20%\n",
      "deer \t:63.10%\n",
      "dog \t:53.90%\n",
      "frog \t:70.60%\n",
      "horse \t:72.00%\n",
      "ship \t:86.10%\n",
      "truck \t:69.00%\n"
     ]
    }
   ],
   "source": [
    "percentage = cal_correct_by_class(model,test_loader,DEVICE)\n",
    "for cls_name,percent in zip(classes,percentage):\n",
    "    print('{} \\t:{:05.2f}%'.format(cls_name,percent*100))"
   ]
  },
  {
   "cell_type": "code",
   "execution_count": null,
   "id": "09df5587",
   "metadata": {},
   "outputs": [],
   "source": []
  }
 ],
 "metadata": {
  "kernelspec": {
   "display_name": "Python 3",
   "language": "python",
   "name": "python3"
  },
  "language_info": {
   "codemirror_mode": {
    "name": "ipython",
    "version": 3
   },
   "file_extension": ".py",
   "mimetype": "text/x-python",
   "name": "python",
   "nbconvert_exporter": "python",
   "pygments_lexer": "ipython3",
   "version": "3.8.8"
  }
 },
 "nbformat": 4,
 "nbformat_minor": 5
}
