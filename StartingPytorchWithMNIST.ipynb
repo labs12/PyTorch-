{
 "cells": [
  {
   "cell_type": "code",
   "execution_count": 15,
   "id": "3764ab93",
   "metadata": {},
   "outputs": [],
   "source": [
    "from PIL import Image\n",
    "from drawing import Drawing\n",
    "import os\n",
    "import matplotlib.pyplot as plt\n",
    "import numpy as np \n",
    "import torch\n",
    "import torch.nn as nn\n",
    "import torch.nn.functional as F\n",
    "import torch.optim as optim\n",
    "from torch.utils.data import DataLoader\n",
    "from torchvision import datasets,transforms"
   ]
  },
  {
   "cell_type": "code",
   "execution_count": 55,
   "id": "2ddd3350",
   "metadata": {},
   "outputs": [],
   "source": [
    "def drawing_custom_number(preprocess, filepath = './figs', return_img=True):\n",
    "    if (not os.path.isdir('figs'))and (filepath == './figs'):\n",
    "        os.mkdir('figs')\n",
    "    draw = Drawing()\n",
    "    draw.main(preprocess=preprocess,filepath=filepath)\n",
    "    img = Image.open(draw.file)\n",
    "    plt.imshow(img,cmap='gray')\n",
    "    plt.show()\n",
    "    if return_img:\n",
    "        return img"
   ]
  },
  {
   "cell_type": "code",
   "execution_count": 56,
   "id": "a4abd161",
   "metadata": {
    "scrolled": true
   },
   "outputs": [
    {
     "name": "stdout",
     "output_type": "stream",
     "text": [
      "file saved ./figs/7.png\n"
     ]
    },
    {
     "data": {
      "image/png": "[encoded data removed]",
      "text/plain": [
       "<Figure size 432x288 with 1 Axes>"
      ]
     },
     "metadata": {
      "needs_background": "light"
     },
     "output_type": "display_data"
    }
   ],
   "source": [
    "img = drawing_custom_number(preprocess=True,return_img=True)"
   ]
  },
  {
   "cell_type": "code",
   "execution_count": 4,
   "id": "b95db108",
   "metadata": {},
   "outputs": [
    {
     "data": {
      "text/plain": [
       "<torch._C.Generator at 0x7f41c4b6be70>"
      ]
     },
     "execution_count": 4,
     "metadata": {},
     "output_type": "execute_result"
    }
   ],
   "source": [
    "torch.manual_seed(70)"
   ]
  },
  {
   "cell_type": "code",
   "execution_count": 7,
   "id": "22aa4140",
   "metadata": {
    "scrolled": true
   },
   "outputs": [
    {
     "name": "stdout",
     "output_type": "stream",
     "text": [
      "Downloading http://yann.lecun.com/exdb/mnist/train-images-idx3-ubyte.gz to ./data/MNIST/raw/train-images-idx3-ubyte.gz\n"
     ]
    },
    {
     "data": {
      "application/vnd.jupyter.widget-view+json": {
       "model_id": "0ead005c050b4b628412cb0aed84089a",
       "version_major": 2,
       "version_minor": 0
      },
      "text/plain": [
       "0it [00:00, ?it/s]"
      ]
     },
     "metadata": {},
     "output_type": "display_data"
    },
    {
     "name": "stdout",
     "output_type": "stream",
     "text": [
      "Extracting ./data/MNIST/raw/train-images-idx3-ubyte.gz to ./data/MNIST/raw\n",
      "Downloading http://yann.lecun.com/exdb/mnist/train-labels-idx1-ubyte.gz to ./data/MNIST/raw/train-labels-idx1-ubyte.gz\n"
     ]
    },
    {
     "data": {
      "application/vnd.jupyter.widget-view+json": {
       "model_id": "fcf86ac3d4544039a02ec7ea23fef7bb",
       "version_major": 2,
       "version_minor": 0
      },
      "text/plain": [
       "0it [00:00, ?it/s]"
      ]
     },
     "metadata": {},
     "output_type": "display_data"
    },
    {
     "name": "stdout",
     "output_type": "stream",
     "text": [
      "Extracting ./data/MNIST/raw/train-labels-idx1-ubyte.gz to ./data/MNIST/raw\n",
      "Downloading http://yann.lecun.com/exdb/mnist/t10k-images-idx3-ubyte.gz to ./data/MNIST/raw/t10k-images-idx3-ubyte.gz\n"
     ]
    },
    {
     "data": {
      "application/vnd.jupyter.widget-view+json": {
       "model_id": "7fe61b355d574b939f350a9f74f98605",
       "version_major": 2,
       "version_minor": 0
      },
      "text/plain": [
       "0it [00:00, ?it/s]"
      ]
     },
     "metadata": {},
     "output_type": "display_data"
    },
    {
     "name": "stdout",
     "output_type": "stream",
     "text": [
      "Extracting ./data/MNIST/raw/t10k-images-idx3-ubyte.gz to ./data/MNIST/raw\n",
      "Downloading http://yann.lecun.com/exdb/mnist/t10k-labels-idx1-ubyte.gz to ./data/MNIST/raw/t10k-labels-idx1-ubyte.gz\n"
     ]
    },
    {
     "data": {
      "application/vnd.jupyter.widget-view+json": {
       "model_id": "e7c3f9589cf44e1c8b4668ca2babd0fa",
       "version_major": 2,
       "version_minor": 0
      },
      "text/plain": [
       "0it [00:00, ?it/s]"
      ]
     },
     "metadata": {},
     "output_type": "display_data"
    },
    {
     "name": "stdout",
     "output_type": "stream",
     "text": [
      "Extracting ./data/MNIST/raw/t10k-labels-idx1-ubyte.gz to ./data/MNIST/raw\n",
      "Processing...\n",
      "Done!\n"
     ]
    },
    {
     "name": "stderr",
     "output_type": "stream",
     "text": [
      "/home/labina/anaconda3/envs/NLB/lib/python3.8/site-packages/torchvision/datasets/mnist.py:469: UserWarning: The given NumPy array is not writeable, and PyTorch does not support non-writeable tensors. This means you can write to the underlying (supposedly non-writeable) NumPy array using the tensor. You may want to copy the array to protect its data or make it writeable before converting it to a tensor. This type of warning will be suppressed for the rest of this program. (Triggered internally at  /opt/conda/conda-bld/pytorch_1595629395347/work/torch/csrc/utils/tensor_numpy.cpp:141.)\n",
      "  return torch.from_numpy(parsed.astype(m[2], copy=False)).view(*s)\n"
     ]
    },
    {
     "ename": "AttributeError",
     "evalue": "'int' object has no attribute 'squeeze'",
     "output_type": "error",
     "traceback": [
      "\u001b[0;31m---------------------------------------------------------------------------\u001b[0m",
      "\u001b[0;31mAttributeError\u001b[0m                            Traceback (most recent call last)",
      "\u001b[0;32m<ipython-input-7-9143129ccd50>\u001b[0m in \u001b[0;36m<module>\u001b[0;34m\u001b[0m\n\u001b[1;32m      8\u001b[0m \u001b[0;31m#just to check the datas/ among all the dataset shows selected data randomly\u001b[0m\u001b[0;34m\u001b[0m\u001b[0;34m\u001b[0m\u001b[0;34m\u001b[0m\u001b[0m\n\u001b[1;32m      9\u001b[0m \u001b[0midx\u001b[0m \u001b[0;34m=\u001b[0m \u001b[0mtorch\u001b[0m\u001b[0;34m.\u001b[0m\u001b[0mrandint\u001b[0m\u001b[0;34m(\u001b[0m\u001b[0;36m0\u001b[0m\u001b[0;34m,\u001b[0m \u001b[0mlen\u001b[0m\u001b[0;34m(\u001b[0m\u001b[0mtrain_dataset\u001b[0m\u001b[0;34m)\u001b[0m\u001b[0;34m,\u001b[0m \u001b[0;34m(\u001b[0m\u001b[0;36m1\u001b[0m\u001b[0;34m,\u001b[0m\u001b[0;34m)\u001b[0m\u001b[0;34m)\u001b[0m\u001b[0;34m.\u001b[0m\u001b[0mitem\u001b[0m\u001b[0;34m(\u001b[0m\u001b[0;34m)\u001b[0m\u001b[0;34m\u001b[0m\u001b[0;34m\u001b[0m\u001b[0m\n\u001b[0;32m---> 10\u001b[0;31m \u001b[0mrandom_image\u001b[0m \u001b[0;34m=\u001b[0m \u001b[0mtrain_dataset\u001b[0m\u001b[0;34m(\u001b[0m\u001b[0;34m[\u001b[0m\u001b[0midx\u001b[0m\u001b[0;34m]\u001b[0m\u001b[0;34m[\u001b[0m\u001b[0;36m0\u001b[0m\u001b[0;34m]\u001b[0m\u001b[0;34m.\u001b[0m\u001b[0msqueeze\u001b[0m\u001b[0;34m(\u001b[0m\u001b[0;34m)\u001b[0m\u001b[0;34m.\u001b[0m\u001b[0mnumpy\u001b[0m\u001b[0;34m(\u001b[0m\u001b[0;34m)\u001b[0m\u001b[0;34m)\u001b[0m\u001b[0;34m\u001b[0m\u001b[0;34m\u001b[0m\u001b[0m\n\u001b[0m\u001b[1;32m     11\u001b[0m \u001b[0mtarget_num\u001b[0m \u001b[0;34m=\u001b[0m \u001b[0mtrain_dataset\u001b[0m\u001b[0;34m[\u001b[0m\u001b[0midx\u001b[0m\u001b[0;34m]\u001b[0m\u001b[0;34m[\u001b[0m\u001b[0;36m1\u001b[0m\u001b[0;34m]\u001b[0m\u001b[0;34m\u001b[0m\u001b[0;34m\u001b[0m\u001b[0m\n\u001b[1;32m     12\u001b[0m \u001b[0mprint\u001b[0m\u001b[0;34m(\u001b[0m\u001b[0;34m'Target:'\u001b[0m\u001b[0;34m.\u001b[0m\u001b[0mformat\u001b[0m\u001b[0;34m(\u001b[0m\u001b[0mtarget_num\u001b[0m\u001b[0;34m)\u001b[0m\u001b[0;34m)\u001b[0m\u001b[0;34m\u001b[0m\u001b[0;34m\u001b[0m\u001b[0m\n",
      "\u001b[0;31mAttributeError\u001b[0m: 'int' object has no attribute 'squeeze'"
     ]
    }
   ],
   "source": [
    "train_dataset = datasets.MNIST(root ='./data',\n",
    "                              train =True, \n",
    "                              download=True,\n",
    "                              transform = transforms.ToTensor()) # A function that takes in an PIL image and returns a transformed version\n",
    "test_dataset = datasets.MNIST(root = './data',\n",
    "                             train=False,\n",
    "                             transform = transforms.ToTensor())\n"
   ]
  },
  {
   "cell_type": "code",
   "execution_count": 19,
   "id": "53cb101a",
   "metadata": {},
   "outputs": [
    {
     "name": "stdout",
     "output_type": "stream",
     "text": [
      "Target:\n",
      "Size of image:\n"
     ]
    },
    {
     "data": {
      "image/png": "[encoded data removed]",
      "text/plain": [
       "<Figure size 432x288 with 1 Axes>"
      ]
     },
     "metadata": {
      "needs_background": "light"
     },
     "output_type": "display_data"
    }
   ],
   "source": [
    "#just to check the datas/ among all the dataset shows selected data randomly\n",
    "idx = torch.randint(0, len(train_dataset), (1,)).item()\n",
    "random_image = train_dataset[idx][0].squeeze().numpy()\n",
    "target_num = train_dataset[idx][1]\n",
    "print('Target:'.format(target_num))\n",
    "print('Size of image:'.format(random_image.shape))\n",
    "\n",
    "plt.imshow(random_image, cmap = 'gray')\n",
    "plt.axis()\n",
    "plt.show()"
   ]
  },
  {
   "cell_type": "code",
   "execution_count": 22,
   "id": "7ad81fe8",
   "metadata": {},
   "outputs": [
    {
     "name": "stdout",
     "output_type": "stream",
     "text": [
      "cuda\n"
     ]
    }
   ],
   "source": [
    "#minibatch size \n",
    "batch = 64\n",
    "device = 'cuda' if torch.cuda.is_available()else 'cpu'\n",
    "print(device)\n",
    "#total epoch \n",
    "STEP = 10 \n",
    "#train and test loader\n",
    "train_loader = DataLoader(dataset = train_dataset,\n",
    "                         batch_size = batch,\n",
    "                         shuffle=True)\n",
    "test_loader = DataLoader(dataset = test_dataset,\n",
    "                        batch_size = batch,\n",
    "                        shuffle=True)"
   ]
  },
  {
   "cell_type": "markdown",
   "id": "262cc3ce",
   "metadata": {},
   "source": [
    "### to check total size of data taken in one iteration\n"
   ]
  },
  {
   "cell_type": "code",
   "execution_count": 23,
   "id": "b86772ae",
   "metadata": {},
   "outputs": [
    {
     "name": "stdout",
     "output_type": "stream",
     "text": [
      "torch.Size([64, 1, 28, 28]) torch.Size([64])\n"
     ]
    }
   ],
   "source": [
    "for (data,target) in train_loader:\n",
    "    print(data.size(),target.size())\n",
    "    break\n"
   ]
  },
  {
   "cell_type": "code",
   "execution_count": 27,
   "id": "5969106a",
   "metadata": {},
   "outputs": [],
   "source": [
    "class Net(nn.Module):\n",
    "    def __init__(self,input_size,num_classes):\n",
    "        super(Net, self).__init__()\n",
    "        self.fc1 = nn.Linear(in_features=784, out_features=128)\n",
    "\n",
    "        self.fc2 = nn.Linear(in_features=128, out_features=64)\n",
    "\n",
    "        self.out_fc = nn.Linear(in_features=64, out_features=num_classes)\n",
    "\n",
    "        self.relu = nn.ReLU(inplace=True)\n",
    "\n",
    "        \n",
    "    def forward(self, x):\n",
    "\n",
    "        x = torch.flatten(x, 1)\n",
    "\n",
    "        x = self.fc1(x)\n",
    "        x = self.relu(x)\n",
    "\n",
    "        x = self.fc2(x)\n",
    "        x = self.relu(x)\n",
    "\n",
    "        output = self.out_fc(x)\n",
    "        return output\n"
   ]
  },
  {
   "cell_type": "code",
   "execution_count": 28,
   "id": "d5cffdf3",
   "metadata": {},
   "outputs": [],
   "source": [
    "model = Net(input_size =(28,28), num_classes = 10).to(device)"
   ]
  },
  {
   "cell_type": "code",
   "execution_count": 33,
   "id": "900d7def",
   "metadata": {},
   "outputs": [
    {
     "data": {
      "text/plain": [
       "<bound method Module.parameters of Net(\n",
       "  (fc1): Linear(in_features=784, out_features=128, bias=True)\n",
       "  (fc2): Linear(in_features=128, out_features=64, bias=True)\n",
       "  (out_fc): Linear(in_features=64, out_features=10, bias=True)\n",
       "  (relu): ReLU(inplace=True)\n",
       ")>"
      ]
     },
     "execution_count": 33,
     "metadata": {},
     "output_type": "execute_result"
    }
   ],
   "source": [
    "model.parameters"
   ]
  },
  {
   "cell_type": "code",
   "execution_count": 38,
   "id": "99a11309",
   "metadata": {},
   "outputs": [
    {
     "name": "stdout",
     "output_type": "stream",
     "text": [
      "Total number of parameters:109386\n"
     ]
    }
   ],
   "source": [
    "#loss function and optimizer \n",
    "loss_function = nn.CrossEntropyLoss()\n",
    "optimizer = optim.Adam(model.parameters())\n",
    "\n",
    "#calculating the number of parameters\n",
    "num_params = 0\n",
    "for params in model.parameters():\n",
    "    num_params += params.view(-1).size(0)\n",
    "print('Total number of parameters:{}' .format(num_params))\n"
   ]
  },
  {
   "cell_type": "code",
   "execution_count": 51,
   "id": "c5f3a7bb",
   "metadata": {},
   "outputs": [],
   "source": [
    "def train(model,train_loader,loss_func,optimizer,step,device,print_step=200):\n",
    "    '''Train Function'''\n",
    "    model.train()\n",
    "    for batch_idx,(data,target) in enumerate(train_loader):\n",
    "        data,target = data.to(device), target.to(device)\n",
    "        model.zero_grad()\n",
    "        output = model(data)\n",
    "        loss = loss_func(output,target)\n",
    "        loss.backward()\n",
    "        optimizer.step()\n",
    "        #to print the middle steps\n",
    "        if batch_idx % print_step == 0:\n",
    "            print('Train Step: {} ({:05.2f}%)  \\tLoss: {:.4f}'.format(\n",
    "                step, 100.*(batch_idx*train_loader.batch_size)/len(train_loader.dataset), \n",
    "                loss.item()))\n",
    "def test(model,test_loader,loss_func,device):\n",
    "    '''test function'''\n",
    "    model.eval()\n",
    "    test_loss = 0\n",
    "    correct = 0\n",
    "    \n",
    "    with torch.no_grad():\n",
    "        for data,target in test_loader:\n",
    "            data,target = data.to(device), target.to(device)\n",
    "            output = model(data)\n",
    "            #calculate loss \n",
    "            test_loss += loss_func(output,target,reduction=\"sum\").item()\n",
    "            pred = output.softmax(1).argmax(dim=1,keepdim=True)\n",
    "            #calculate the accurate prediction\n",
    "            correct += pred.eq(target.view_as(pred)).sum().item()\n",
    "            \n",
    "    test_loss/= len(test_loader.dataset)\n",
    "    test_acc = correct/len(test_loader.dataset)\n",
    "    print('Test Set: Average loss:{:.4f},Accuracy:{}/{}({:05.2f}%)'.format(\n",
    "    test_loss,correct,len(test_loader.dataset),100.*test_acc))\n",
    "    return test_loss, test_acc\n",
    "\n",
    "def main(model,train_loader,test_loader,loss_func,optimizer,n_step,device,save_path,print_step):\n",
    "    test_accs = []\n",
    "    best_acc = 0.0\n",
    "    \n",
    "    for step in range(1,n_step+1):\n",
    "        #training \n",
    "        train(model,train_loader,loss_func, optimizer,\n",
    "             step=step,device=device,print_step=print_step)\n",
    "        #evaluation\n",
    "        test_loss, test_acc = test(model,test_loader,loss_func=F.cross_entropy,device=device)\n",
    "        \n",
    "        #to keep record of accuracy \n",
    "        test_accs.append(test_acc)\n",
    "        #to decide wether to save the optimal parameter/test results or not \n",
    "        if len(test_accs)>=2:\n",
    "            if test_acc >= best_acc:\n",
    "                best_acc = test_acc\n",
    "                best_state_dict = model.state_dict()\n",
    "                print(\"discard previous state, best model state saved!\")\n",
    "        print(\"\")\n",
    "    torch.save(best_state_dict,save_path)\n",
    "    \n",
    "    \n",
    "    "
   ]
  },
  {
   "cell_type": "code",
   "execution_count": 52,
   "id": "4adbe773",
   "metadata": {
    "scrolled": true
   },
   "outputs": [
    {
     "name": "stdout",
     "output_type": "stream",
     "text": [
      "Train Step: 1 (00.00%)  \tLoss: 0.0595\n",
      "Train Step: 1 (21.33%)  \tLoss: 0.0523\n",
      "Train Step: 1 (42.67%)  \tLoss: 0.0689\n",
      "Train Step: 1 (64.00%)  \tLoss: 0.0847\n",
      "Train Step: 1 (85.33%)  \tLoss: 0.3010\n",
      "Test Set: Average loss:0.1240,Accuracy:9614/10000(96.14%)\n",
      "\n",
      "Train Step: 2 (00.00%)  \tLoss: 0.0360\n",
      "Train Step: 2 (21.33%)  \tLoss: 0.1531\n",
      "Train Step: 2 (42.67%)  \tLoss: 0.0575\n",
      "Train Step: 2 (64.00%)  \tLoss: 0.1345\n",
      "Train Step: 2 (85.33%)  \tLoss: 0.0898\n",
      "Test Set: Average loss:0.0857,Accuracy:9729/10000(97.29%)\n",
      "discard previous state, best model state saved!\n",
      "\n",
      "Train Step: 3 (00.00%)  \tLoss: 0.0286\n",
      "Train Step: 3 (21.33%)  \tLoss: 0.0521\n",
      "Train Step: 3 (42.67%)  \tLoss: 0.0452\n",
      "Train Step: 3 (64.00%)  \tLoss: 0.0226\n",
      "Train Step: 3 (85.33%)  \tLoss: 0.0026\n",
      "Test Set: Average loss:0.0882,Accuracy:9742/10000(97.42%)\n",
      "discard previous state, best model state saved!\n",
      "\n",
      "Train Step: 4 (00.00%)  \tLoss: 0.0849\n",
      "Train Step: 4 (21.33%)  \tLoss: 0.0831\n",
      "Train Step: 4 (42.67%)  \tLoss: 0.0506\n",
      "Train Step: 4 (64.00%)  \tLoss: 0.2227\n",
      "Train Step: 4 (85.33%)  \tLoss: 0.0091\n",
      "Test Set: Average loss:0.0760,Accuracy:9784/10000(97.84%)\n",
      "discard previous state, best model state saved!\n",
      "\n",
      "Train Step: 5 (00.00%)  \tLoss: 0.0401\n",
      "Train Step: 5 (21.33%)  \tLoss: 0.0182\n",
      "Train Step: 5 (42.67%)  \tLoss: 0.0442\n",
      "Train Step: 5 (64.00%)  \tLoss: 0.0053\n",
      "Train Step: 5 (85.33%)  \tLoss: 0.0683\n",
      "Test Set: Average loss:0.0857,Accuracy:9744/10000(97.44%)\n",
      "\n",
      "Train Step: 6 (00.00%)  \tLoss: 0.0209\n",
      "Train Step: 6 (21.33%)  \tLoss: 0.0080\n",
      "Train Step: 6 (42.67%)  \tLoss: 0.0081\n",
      "Train Step: 6 (64.00%)  \tLoss: 0.0551\n",
      "Train Step: 6 (85.33%)  \tLoss: 0.0012\n",
      "Test Set: Average loss:0.0836,Accuracy:9758/10000(97.58%)\n",
      "\n",
      "Train Step: 7 (00.00%)  \tLoss: 0.0045\n",
      "Train Step: 7 (21.33%)  \tLoss: 0.0254\n",
      "Train Step: 7 (42.67%)  \tLoss: 0.0553\n",
      "Train Step: 7 (64.00%)  \tLoss: 0.0495\n",
      "Train Step: 7 (85.33%)  \tLoss: 0.0604\n",
      "Test Set: Average loss:0.0827,Accuracy:9770/10000(97.70%)\n",
      "\n",
      "Train Step: 8 (00.00%)  \tLoss: 0.0041\n",
      "Train Step: 8 (21.33%)  \tLoss: 0.0222\n",
      "Train Step: 8 (42.67%)  \tLoss: 0.0006\n",
      "Train Step: 8 (64.00%)  \tLoss: 0.0150\n",
      "Train Step: 8 (85.33%)  \tLoss: 0.0048\n",
      "Test Set: Average loss:0.0828,Accuracy:9775/10000(97.75%)\n",
      "\n",
      "Train Step: 9 (00.00%)  \tLoss: 0.0153\n",
      "Train Step: 9 (21.33%)  \tLoss: 0.0010\n",
      "Train Step: 9 (42.67%)  \tLoss: 0.0282\n",
      "Train Step: 9 (64.00%)  \tLoss: 0.0026\n",
      "Train Step: 9 (85.33%)  \tLoss: 0.0010\n",
      "Test Set: Average loss:0.0904,Accuracy:9780/10000(97.80%)\n",
      "\n",
      "Train Step: 10 (00.00%)  \tLoss: 0.0787\n",
      "Train Step: 10 (21.33%)  \tLoss: 0.0438\n",
      "Train Step: 10 (42.67%)  \tLoss: 0.0004\n",
      "Train Step: 10 (64.00%)  \tLoss: 0.0043\n",
      "Train Step: 10 (85.33%)  \tLoss: 0.0011\n",
      "Test Set: Average loss:0.0922,Accuracy:9764/10000(97.64%)\n",
      "\n"
     ]
    }
   ],
   "source": [
    "main(model=model, \n",
    "     train_loader=train_loader, \n",
    "     test_loader=test_loader, \n",
    "     loss_func=loss_function, \n",
    "     optimizer=optimizer, \n",
    "     n_step=STEP,\n",
    "     device=device,\n",
    "     save_path=\"mnist_model.pt\", \n",
    "     print_step=200)"
   ]
  },
  {
   "cell_type": "code",
   "execution_count": 74,
   "id": "9467ed2a",
   "metadata": {
    "scrolled": true
   },
   "outputs": [
    {
     "name": "stdout",
     "output_type": "stream",
     "text": [
      "file saved ./figs/3.png\n"
     ]
    },
    {
     "data": {
      "image/png": "[encoded data removed]",
      "text/plain": [
       "<Figure size 432x288 with 1 Axes>"
      ]
     },
     "metadata": {
      "needs_background": "light"
     },
     "output_type": "display_data"
    }
   ],
   "source": [
    "img = drawing_custom_number(preprocess=True,return_img=True)"
   ]
  },
  {
   "cell_type": "code",
   "execution_count": 76,
   "id": "93106618",
   "metadata": {},
   "outputs": [
    {
     "name": "stdout",
     "output_type": "stream",
     "text": [
      "predicted number is 3.\n"
     ]
    }
   ],
   "source": [
    "test_input = torch.Tensor(np.array(img)).unsqueeze(0).to(device)\n",
    "pred = model(test_input)\n",
    "print(\"predicted number is {}.\".format(pred.softmax(1).argmax().item()))"
   ]
  },
  {
   "cell_type": "code",
   "execution_count": null,
   "id": "59d0ed2a",
   "metadata": {},
   "outputs": [],
   "source": []
  },
  {
   "cell_type": "code",
   "execution_count": null,
   "id": "19c10c2e",
   "metadata": {},
   "outputs": [],
   "source": []
  }
 ],
 "metadata": {
  "kernelspec": {
   "display_name": "Python 3",
   "language": "python",
   "name": "python3"
  },
  "language_info": {
   "codemirror_mode": {
    "name": "ipython",
    "version": 3
   },
   "file_extension": ".py",
   "mimetype": "text/x-python",
   "name": "python",
   "nbconvert_exporter": "python",
   "pygments_lexer": "ipython3",
   "version": "3.8.8"
  }
 },
 "nbformat": 4,
 "nbformat_minor": 5
}
