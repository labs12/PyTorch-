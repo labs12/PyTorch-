{
 "cells": [
  {
   "cell_type": "code",
   "execution_count": 1,
   "id": "b90d34a6",
   "metadata": {},
   "outputs": [],
   "source": [
    "import torch\n",
    "import torch.nn as nn\n",
    "import torch.nn.functional as F\n",
    "import torch.optim as optim\n",
    "from torch.utils.data import DataLoader\n",
    "from torchvision import datasets, transforms\n",
    "from train_utils import train, test\n",
    "import matplotlib.pyplot as plt\n",
    "from test_fun import train,test,main"
   ]
  },
  {
   "cell_type": "code",
   "execution_count": 29,
   "id": "c4d64e49",
   "metadata": {},
   "outputs": [
    {
     "data": {
      "text/plain": [
       "'train_dataset = datasets.CIFAR10(\\'./data/cifar\\', train=True, \\n                                download=True,\\n                                transform=transforms.ToTensor())\\ntest_dataset = datasets.CIFAR10(\\'./data/cifar\\', train=False,\\n                               transform=transforms.ToTensor())\\n\\nprint(\"training set{},test set{} \\n\".format(\\n    len(train_dataset),len(test_dataset)))'"
      ]
     },
     "execution_count": 29,
     "metadata": {},
     "output_type": "execute_result"
    }
   ],
   "source": [
    "'''train_dataset = datasets.CIFAR10('./data/cifar', train=True, \n",
    "                                download=True,\n",
    "                                transform=transforms.ToTensor())\n",
    "test_dataset = datasets.CIFAR10('./data/cifar', train=False,\n",
    "                               transform=transforms.ToTensor())\n",
    "\n",
    "print(\"training set{},test set{} \\n\".format(\n",
    "    len(train_dataset),len(test_dataset)))'''"
   ]
  },
  {
   "cell_type": "code",
   "execution_count": 32,
   "id": "12738480",
   "metadata": {},
   "outputs": [
    {
     "name": "stdout",
     "output_type": "stream",
     "text": [
      "training set:50000,test set:10000\n",
      "\n"
     ]
    }
   ],
   "source": [
    "train_dataset = datasets.CIFAR10('./data/cifar', train=True, \n",
    "                                download=False,\n",
    "                                transform=transforms.ToTensor())\n",
    "test_dataset = datasets.CIFAR10('./data/cifar', train=False,\n",
    "                               transform=transforms.ToTensor())\n",
    "\n",
    "print(\"training set:{},test set:{}\\n\".format(\n",
    "    len(train_dataset),len(test_dataset)))"
   ]
  },
  {
   "cell_type": "code",
   "execution_count": 5,
   "id": "c7892db2",
   "metadata": {},
   "outputs": [
    {
     "name": "stdout",
     "output_type": "stream",
     "text": [
      "Target:horse\n",
      "Size of Image:torch.Size([3, 32, 32])\n"
     ]
    },
    {
     "data": {
      "image/png": "[encoded data removed]",
      "text/plain": [
       "<Figure size 432x288 with 1 Axes>"
      ]
     },
     "metadata": {
      "needs_background": "light"
     },
     "output_type": "display_data"
    }
   ],
   "source": [
    "classes = ('plane','car','bird','cat','deer',\n",
    "          'dog','frog','horse','ship','truck')\n",
    "\n",
    "idx = torch.randint(0,len(train_dataset),(1,)).item()\n",
    "random_image = train_dataset[idx][0]\n",
    "target_num = train_dataset[idx][1]\n",
    "\n",
    "print('Target:{}'.format(classes[target_num]))\n",
    "print('Size of Image:{}'.format(random_image.size()))\n",
    "\n",
    "plt.imshow(random_image.numpy().transpose(1,2,0))\n",
    "plt.axis(\"off\")\n",
    "plt.show()"
   ]
  },
  {
   "cell_type": "code",
   "execution_count": 14,
   "id": "73d65178",
   "metadata": {},
   "outputs": [
    {
     "name": "stdout",
     "output_type": "stream",
     "text": [
      "cuda\n"
     ]
    }
   ],
   "source": [
    "BATCH = 128\n",
    "DEVICE = 'cuda' if torch.cuda.is_available() else 'cpu'\n",
    "print(DEVICE)\n",
    "STEP = 50\n",
    "PRINT_STEP = 180"
   ]
  },
  {
   "cell_type": "code",
   "execution_count": 7,
   "id": "cb764717",
   "metadata": {},
   "outputs": [],
   "source": [
    "train_loader = DataLoader(train_dataset,batch_size=BATCH,shuffle=True)\n",
    "test_loader = DataLoader(test_dataset,batch_size=BATCH,shuffle=True)"
   ]
  },
  {
   "cell_type": "code",
   "execution_count": 8,
   "id": "60484d3a",
   "metadata": {},
   "outputs": [],
   "source": [
    "class CNN(nn.Module):\n",
    "    def __init__(self):\n",
    "        super(CNN,self).__init__()\n",
    "        self.flatten = lambda x: x.view(x.size(0), -1)\n",
    "        \n",
    "        self.conv1 = nn.Conv2d(in_channels = 3,\n",
    "                               out_channels=8,\n",
    "                               kernel_size=5,\n",
    "                               stride=1,\n",
    "                               padding=1)\n",
    "        self.conv2 = nn.Conv2d(in_channels=8,\n",
    "                             out_channels=16,\n",
    "                             kernel_size=2,\n",
    "                             stride=1,\n",
    "                             padding=0)\n",
    "        self.relu = nn.ReLU(inplace=True)\n",
    "        self.pool = nn.MaxPool2d(kernel_size=2,\n",
    "                                stride=2)\n",
    "        self.fc = nn.Linear(16*7*7, 10)\n",
    "        \n",
    "    def forward(self,x):\n",
    "        x = self.conv1(x)\n",
    "        x = self.relu(x)\n",
    "        x = self.pool(x)\n",
    "        \n",
    "        x = self.conv2(x)\n",
    "        x = self.relu(x)\n",
    "        x = self.pool(x)\n",
    "        \n",
    "        x = self.flatten(x)\n",
    "        x = self.fc(x)\n",
    "        \n",
    "        return x\n",
    "        "
   ]
  },
  {
   "cell_type": "code",
   "execution_count": 9,
   "id": "fb10c67d",
   "metadata": {},
   "outputs": [],
   "source": [
    "model = CNN().to(DEVICE)\n",
    "loss_function = nn.CrossEntropyLoss()\n",
    "optimizer = optim.Adam(model.parameters())"
   ]
  },
  {
   "cell_type": "code",
   "execution_count": 10,
   "id": "f4d4b036",
   "metadata": {},
   "outputs": [
    {
     "data": {
      "text/plain": [
       "<bound method Module.parameters of CNN(\n",
       "  (conv1): Conv2d(3, 8, kernel_size=(5, 5), stride=(1, 1), padding=(1, 1))\n",
       "  (conv2): Conv2d(8, 16, kernel_size=(2, 2), stride=(1, 1))\n",
       "  (relu): ReLU(inplace=True)\n",
       "  (pool): MaxPool2d(kernel_size=2, stride=2, padding=0, dilation=1, ceil_mode=False)\n",
       "  (fc): Linear(in_features=784, out_features=10, bias=True)\n",
       ")>"
      ]
     },
     "execution_count": 10,
     "metadata": {},
     "output_type": "execute_result"
    }
   ],
   "source": [
    "model.parameters"
   ]
  },
  {
   "cell_type": "code",
   "execution_count": 11,
   "id": "c1e8e93f",
   "metadata": {},
   "outputs": [
    {
     "name": "stdout",
     "output_type": "stream",
     "text": [
      "Total number of parameters:8986\n"
     ]
    }
   ],
   "source": [
    "num_params = 0 \n",
    "for params in model.parameters():\n",
    "    num_params += params.view(-1).size(0)\n",
    "print('Total number of parameters:{}'.format(num_params))"
   ]
  },
  {
   "cell_type": "code",
   "execution_count": 12,
   "id": "81cd8675",
   "metadata": {},
   "outputs": [],
   "source": []
  },
  {
   "cell_type": "code",
   "execution_count": 15,
   "id": "25244554",
   "metadata": {
    "scrolled": true
   },
   "outputs": [
    {
     "name": "stdout",
     "output_type": "stream",
     "text": [
      "Train Step: 1 (00.00%)  \tLoss: 1.1300\n",
      "Train Step: 1 (46.08%)  \tLoss: 1.0679\n",
      "Train Step: 1 (92.16%)  \tLoss: 0.8747\n",
      "Test Set: Average loss:1.1071,Accuracy:6169/10000(61.69%)\n",
      "\n",
      "Train Step: 2 (00.00%)  \tLoss: 1.0021\n",
      "Train Step: 2 (46.08%)  \tLoss: 0.7712\n",
      "Train Step: 2 (92.16%)  \tLoss: 0.9786\n",
      "Test Set: Average loss:1.0958,Accuracy:6215/10000(62.15%)\n",
      "discard previous state, best model state saved!\n",
      "\n",
      "Train Step: 3 (00.00%)  \tLoss: 1.0799\n",
      "Train Step: 3 (46.08%)  \tLoss: 0.6906\n",
      "Train Step: 3 (92.16%)  \tLoss: 1.0739\n",
      "Test Set: Average loss:1.0950,Accuracy:6224/10000(62.24%)\n",
      "discard previous state, best model state saved!\n",
      "\n",
      "Train Step: 4 (00.00%)  \tLoss: 0.9998\n",
      "Train Step: 4 (46.08%)  \tLoss: 1.1573\n",
      "Train Step: 4 (92.16%)  \tLoss: 0.9333\n",
      "Test Set: Average loss:1.0900,Accuracy:6243/10000(62.43%)\n",
      "discard previous state, best model state saved!\n",
      "\n",
      "Train Step: 5 (00.00%)  \tLoss: 0.9012\n",
      "Train Step: 5 (46.08%)  \tLoss: 0.9418\n",
      "Train Step: 5 (92.16%)  \tLoss: 0.9467\n",
      "Test Set: Average loss:1.0828,Accuracy:6261/10000(62.61%)\n",
      "discard previous state, best model state saved!\n",
      "\n",
      "Train Step: 6 (00.00%)  \tLoss: 1.1098\n",
      "Train Step: 6 (46.08%)  \tLoss: 1.1948\n",
      "Train Step: 6 (92.16%)  \tLoss: 0.9315\n",
      "Test Set: Average loss:1.0785,Accuracy:6321/10000(63.21%)\n",
      "discard previous state, best model state saved!\n",
      "\n",
      "Train Step: 7 (00.00%)  \tLoss: 1.1647\n",
      "Train Step: 7 (46.08%)  \tLoss: 0.7894\n",
      "Train Step: 7 (92.16%)  \tLoss: 1.0314\n",
      "Test Set: Average loss:1.0904,Accuracy:6277/10000(62.77%)\n",
      "\n",
      "Train Step: 8 (00.00%)  \tLoss: 1.0375\n",
      "Train Step: 8 (46.08%)  \tLoss: 0.8892\n",
      "Train Step: 8 (92.16%)  \tLoss: 0.9938\n",
      "Test Set: Average loss:1.1213,Accuracy:6185/10000(61.85%)\n",
      "\n",
      "Train Step: 9 (00.00%)  \tLoss: 0.9828\n",
      "Train Step: 9 (46.08%)  \tLoss: 1.0593\n",
      "Train Step: 9 (92.16%)  \tLoss: 0.9304\n",
      "Test Set: Average loss:1.0800,Accuracy:6295/10000(62.95%)\n",
      "\n",
      "Train Step: 10 (00.00%)  \tLoss: 1.0694\n",
      "Train Step: 10 (46.08%)  \tLoss: 0.9547\n",
      "Train Step: 10 (92.16%)  \tLoss: 1.0809\n",
      "Test Set: Average loss:1.0759,Accuracy:6321/10000(63.21%)\n",
      "discard previous state, best model state saved!\n",
      "\n",
      "Train Step: 11 (00.00%)  \tLoss: 0.9470\n",
      "Train Step: 11 (46.08%)  \tLoss: 1.0610\n",
      "Train Step: 11 (92.16%)  \tLoss: 0.9105\n",
      "Test Set: Average loss:1.0848,Accuracy:6283/10000(62.83%)\n",
      "\n",
      "Train Step: 12 (00.00%)  \tLoss: 0.9497\n",
      "Train Step: 12 (46.08%)  \tLoss: 0.9533\n",
      "Train Step: 12 (92.16%)  \tLoss: 1.0396\n",
      "Test Set: Average loss:1.0849,Accuracy:6241/10000(62.41%)\n",
      "\n",
      "Train Step: 13 (00.00%)  \tLoss: 1.0671\n",
      "Train Step: 13 (46.08%)  \tLoss: 0.9357\n",
      "Train Step: 13 (92.16%)  \tLoss: 0.9863\n",
      "Test Set: Average loss:1.0802,Accuracy:6289/10000(62.89%)\n",
      "\n",
      "Train Step: 14 (00.00%)  \tLoss: 1.0291\n",
      "Train Step: 14 (46.08%)  \tLoss: 0.9005\n",
      "Train Step: 14 (92.16%)  \tLoss: 0.9293\n",
      "Test Set: Average loss:1.0787,Accuracy:6293/10000(62.93%)\n",
      "\n",
      "Train Step: 15 (00.00%)  \tLoss: 0.9330\n",
      "Train Step: 15 (46.08%)  \tLoss: 0.8891\n",
      "Train Step: 15 (92.16%)  \tLoss: 0.9328\n",
      "Test Set: Average loss:1.0676,Accuracy:6357/10000(63.57%)\n",
      "discard previous state, best model state saved!\n",
      "\n",
      "Train Step: 16 (00.00%)  \tLoss: 0.8894\n",
      "Train Step: 16 (46.08%)  \tLoss: 0.9600\n",
      "Train Step: 16 (92.16%)  \tLoss: 0.9781\n",
      "Test Set: Average loss:1.0694,Accuracy:6316/10000(63.16%)\n",
      "\n",
      "Train Step: 17 (00.00%)  \tLoss: 0.8676\n",
      "Train Step: 17 (46.08%)  \tLoss: 0.9375\n",
      "Train Step: 17 (92.16%)  \tLoss: 0.8362\n",
      "Test Set: Average loss:1.0912,Accuracy:6237/10000(62.37%)\n",
      "\n",
      "Train Step: 18 (00.00%)  \tLoss: 0.9514\n",
      "Train Step: 18 (46.08%)  \tLoss: 0.9951\n",
      "Train Step: 18 (92.16%)  \tLoss: 0.8712\n",
      "Test Set: Average loss:1.0623,Accuracy:6401/10000(64.01%)\n",
      "discard previous state, best model state saved!\n",
      "\n",
      "Train Step: 19 (00.00%)  \tLoss: 1.0649\n",
      "Train Step: 19 (46.08%)  \tLoss: 0.9702\n",
      "Train Step: 19 (92.16%)  \tLoss: 0.8531\n",
      "Test Set: Average loss:1.0656,Accuracy:6346/10000(63.46%)\n",
      "\n",
      "Train Step: 20 (00.00%)  \tLoss: 0.9208\n",
      "Train Step: 20 (46.08%)  \tLoss: 1.0735\n",
      "Train Step: 20 (92.16%)  \tLoss: 1.1303\n",
      "Test Set: Average loss:1.0854,Accuracy:6281/10000(62.81%)\n",
      "\n",
      "Train Step: 21 (00.00%)  \tLoss: 0.9767\n",
      "Train Step: 21 (46.08%)  \tLoss: 1.0137\n",
      "Train Step: 21 (92.16%)  \tLoss: 0.9298\n",
      "Test Set: Average loss:1.0584,Accuracy:6383/10000(63.83%)\n",
      "\n",
      "Train Step: 22 (00.00%)  \tLoss: 0.9342\n",
      "Train Step: 22 (46.08%)  \tLoss: 1.0020\n",
      "Train Step: 22 (92.16%)  \tLoss: 0.9793\n",
      "Test Set: Average loss:1.0615,Accuracy:6403/10000(64.03%)\n",
      "discard previous state, best model state saved!\n",
      "\n",
      "Train Step: 23 (00.00%)  \tLoss: 0.8236\n",
      "Train Step: 23 (46.08%)  \tLoss: 0.9955\n",
      "Train Step: 23 (92.16%)  \tLoss: 0.8730\n",
      "Test Set: Average loss:1.0692,Accuracy:6302/10000(63.02%)\n",
      "\n",
      "Train Step: 24 (00.00%)  \tLoss: 0.9126\n",
      "Train Step: 24 (46.08%)  \tLoss: 0.9974\n",
      "Train Step: 24 (92.16%)  \tLoss: 0.9904\n",
      "Test Set: Average loss:1.0834,Accuracy:6282/10000(62.82%)\n",
      "\n",
      "Train Step: 25 (00.00%)  \tLoss: 0.9642\n",
      "Train Step: 25 (46.08%)  \tLoss: 0.9720\n",
      "Train Step: 25 (92.16%)  \tLoss: 0.7924\n",
      "Test Set: Average loss:1.0882,Accuracy:6306/10000(63.06%)\n",
      "\n",
      "Train Step: 26 (00.00%)  \tLoss: 0.8667\n",
      "Train Step: 26 (46.08%)  \tLoss: 0.9606\n",
      "Train Step: 26 (92.16%)  \tLoss: 0.7791\n",
      "Test Set: Average loss:1.0617,Accuracy:6377/10000(63.77%)\n",
      "\n",
      "Train Step: 27 (00.00%)  \tLoss: 1.1631\n",
      "Train Step: 27 (46.08%)  \tLoss: 1.0860\n",
      "Train Step: 27 (92.16%)  \tLoss: 0.9448\n",
      "Test Set: Average loss:1.0500,Accuracy:6421/10000(64.21%)\n",
      "discard previous state, best model state saved!\n",
      "\n",
      "Train Step: 28 (00.00%)  \tLoss: 1.1043\n",
      "Train Step: 28 (46.08%)  \tLoss: 1.0155\n",
      "Train Step: 28 (92.16%)  \tLoss: 0.9403\n",
      "Test Set: Average loss:1.0669,Accuracy:6339/10000(63.39%)\n",
      "\n",
      "Train Step: 29 (00.00%)  \tLoss: 0.9392\n",
      "Train Step: 29 (46.08%)  \tLoss: 0.8536\n",
      "Train Step: 29 (92.16%)  \tLoss: 1.0170\n",
      "Test Set: Average loss:1.0595,Accuracy:6379/10000(63.79%)\n",
      "\n",
      "Train Step: 30 (00.00%)  \tLoss: 0.9308\n",
      "Train Step: 30 (46.08%)  \tLoss: 0.7823\n",
      "Train Step: 30 (92.16%)  \tLoss: 1.0080\n",
      "Test Set: Average loss:1.0473,Accuracy:6436/10000(64.36%)\n",
      "discard previous state, best model state saved!\n",
      "\n",
      "Train Step: 31 (00.00%)  \tLoss: 0.9088\n",
      "Train Step: 31 (46.08%)  \tLoss: 0.8873\n",
      "Train Step: 31 (92.16%)  \tLoss: 1.0526\n",
      "Test Set: Average loss:1.0615,Accuracy:6355/10000(63.55%)\n",
      "\n",
      "Train Step: 32 (00.00%)  \tLoss: 0.8318\n",
      "Train Step: 32 (46.08%)  \tLoss: 1.0835\n",
      "Train Step: 32 (92.16%)  \tLoss: 0.8599\n",
      "Test Set: Average loss:1.0461,Accuracy:6399/10000(63.99%)\n",
      "\n",
      "Train Step: 33 (00.00%)  \tLoss: 0.8463\n",
      "Train Step: 33 (46.08%)  \tLoss: 0.9824\n",
      "Train Step: 33 (92.16%)  \tLoss: 1.0765\n",
      "Test Set: Average loss:1.0472,Accuracy:6397/10000(63.97%)\n",
      "\n",
      "Train Step: 34 (00.00%)  \tLoss: 0.6950\n",
      "Train Step: 34 (46.08%)  \tLoss: 0.9717\n",
      "Train Step: 34 (92.16%)  \tLoss: 0.8456\n",
      "Test Set: Average loss:1.0474,Accuracy:6409/10000(64.09%)\n",
      "\n",
      "Train Step: 35 (00.00%)  \tLoss: 0.7446\n",
      "Train Step: 35 (46.08%)  \tLoss: 0.8253\n",
      "Train Step: 35 (92.16%)  \tLoss: 0.9787\n",
      "Test Set: Average loss:1.0634,Accuracy:6410/10000(64.10%)\n",
      "\n",
      "Train Step: 36 (00.00%)  \tLoss: 0.9097\n",
      "Train Step: 36 (46.08%)  \tLoss: 0.6548\n",
      "Train Step: 36 (92.16%)  \tLoss: 0.8287\n",
      "Test Set: Average loss:1.0558,Accuracy:6402/10000(64.02%)\n",
      "\n",
      "Train Step: 37 (00.00%)  \tLoss: 0.7486\n",
      "Train Step: 37 (46.08%)  \tLoss: 0.9891\n",
      "Train Step: 37 (92.16%)  \tLoss: 0.8539\n",
      "Test Set: Average loss:1.0606,Accuracy:6346/10000(63.46%)\n",
      "\n",
      "Train Step: 38 (00.00%)  \tLoss: 0.8115\n",
      "Train Step: 38 (46.08%)  \tLoss: 0.7553\n",
      "Train Step: 38 (92.16%)  \tLoss: 0.8989\n",
      "Test Set: Average loss:1.0344,Accuracy:6443/10000(64.43%)\n",
      "discard previous state, best model state saved!\n",
      "\n",
      "Train Step: 39 (00.00%)  \tLoss: 0.9827\n",
      "Train Step: 39 (46.08%)  \tLoss: 0.7908\n",
      "Train Step: 39 (92.16%)  \tLoss: 1.0290\n",
      "Test Set: Average loss:1.0575,Accuracy:6405/10000(64.05%)\n",
      "\n",
      "Train Step: 40 (00.00%)  \tLoss: 0.8585\n",
      "Train Step: 40 (46.08%)  \tLoss: 1.0293\n",
      "Train Step: 40 (92.16%)  \tLoss: 1.1004\n",
      "Test Set: Average loss:1.0552,Accuracy:6416/10000(64.16%)\n",
      "\n",
      "Train Step: 41 (00.00%)  \tLoss: 0.9767\n",
      "Train Step: 41 (46.08%)  \tLoss: 0.8252\n",
      "Train Step: 41 (92.16%)  \tLoss: 0.9088\n",
      "Test Set: Average loss:1.0545,Accuracy:6377/10000(63.77%)\n",
      "\n",
      "Train Step: 42 (00.00%)  \tLoss: 0.7189\n",
      "Train Step: 42 (46.08%)  \tLoss: 0.7414\n",
      "Train Step: 42 (92.16%)  \tLoss: 1.1448\n",
      "Test Set: Average loss:1.0471,Accuracy:6389/10000(63.89%)\n",
      "\n",
      "Train Step: 43 (00.00%)  \tLoss: 0.7621\n",
      "Train Step: 43 (46.08%)  \tLoss: 0.8158\n",
      "Train Step: 43 (92.16%)  \tLoss: 0.8442\n",
      "Test Set: Average loss:1.0424,Accuracy:6446/10000(64.46%)\n",
      "discard previous state, best model state saved!\n",
      "\n",
      "Train Step: 44 (00.00%)  \tLoss: 0.8694\n"
     ]
    },
    {
     "name": "stdout",
     "output_type": "stream",
     "text": [
      "Train Step: 44 (46.08%)  \tLoss: 0.8010\n",
      "Train Step: 44 (92.16%)  \tLoss: 0.8391\n",
      "Test Set: Average loss:1.0517,Accuracy:6384/10000(63.84%)\n",
      "\n",
      "Train Step: 45 (00.00%)  \tLoss: 0.9212\n",
      "Train Step: 45 (46.08%)  \tLoss: 0.8821\n",
      "Train Step: 45 (92.16%)  \tLoss: 0.9179\n",
      "Test Set: Average loss:1.0441,Accuracy:6446/10000(64.46%)\n",
      "discard previous state, best model state saved!\n",
      "\n",
      "Train Step: 46 (00.00%)  \tLoss: 0.8419\n",
      "Train Step: 46 (46.08%)  \tLoss: 0.8667\n",
      "Train Step: 46 (92.16%)  \tLoss: 0.7726\n",
      "Test Set: Average loss:1.0376,Accuracy:6451/10000(64.51%)\n",
      "discard previous state, best model state saved!\n",
      "\n",
      "Train Step: 47 (00.00%)  \tLoss: 0.8412\n",
      "Train Step: 47 (46.08%)  \tLoss: 0.7481\n",
      "Train Step: 47 (92.16%)  \tLoss: 0.9122\n",
      "Test Set: Average loss:1.0341,Accuracy:6450/10000(64.50%)\n",
      "\n",
      "Train Step: 48 (00.00%)  \tLoss: 0.7965\n",
      "Train Step: 48 (46.08%)  \tLoss: 0.9544\n",
      "Train Step: 48 (92.16%)  \tLoss: 0.8830\n",
      "Test Set: Average loss:1.0326,Accuracy:6461/10000(64.61%)\n",
      "discard previous state, best model state saved!\n",
      "\n",
      "Train Step: 49 (00.00%)  \tLoss: 0.7833\n",
      "Train Step: 49 (46.08%)  \tLoss: 0.9174\n",
      "Train Step: 49 (92.16%)  \tLoss: 0.8761\n",
      "Test Set: Average loss:1.0348,Accuracy:6465/10000(64.65%)\n",
      "discard previous state, best model state saved!\n",
      "\n",
      "Train Step: 50 (00.00%)  \tLoss: 0.6635\n",
      "Train Step: 50 (46.08%)  \tLoss: 1.0323\n",
      "Train Step: 50 (92.16%)  \tLoss: 0.9020\n",
      "Test Set: Average loss:1.0225,Accuracy:6532/10000(65.32%)\n",
      "discard previous state, best model state saved!\n",
      "\n"
     ]
    }
   ],
   "source": [
    "main(model=model,\n",
    "    train_loader=train_loader,\n",
    "    test_loader=test_loader,\n",
    "    loss_func=loss_function,\n",
    "    optimizer=optimizer,\n",
    "    n_step=STEP,\n",
    "    device=DEVICE,\n",
    "    save_path='cifar10_model.pt',\n",
    "    print_step=PRINT_STEP)"
   ]
  },
  {
   "cell_type": "code",
   "execution_count": 16,
   "id": "18307984",
   "metadata": {},
   "outputs": [
    {
     "data": {
      "text/plain": [
       "<All keys matched successfully>"
      ]
     },
     "execution_count": 16,
     "metadata": {},
     "output_type": "execute_result"
    }
   ],
   "source": [
    "model_path = './cifar10_model.pt'\n",
    "model.load_state_dict(torch.load(model_path))"
   ]
  },
  {
   "cell_type": "markdown",
   "id": "209cd6a5",
   "metadata": {},
   "source": [
    "### Predict accuracy according to class"
   ]
  },
  {
   "cell_type": "code",
   "execution_count": 24,
   "id": "35cbdfaf",
   "metadata": {},
   "outputs": [],
   "source": [
    "def cal_correct_by_class(model,test_loader,device):\n",
    "    total = torch.zeros(10)\n",
    "    correct = torch.zeros(10)\n",
    "    with torch.no_grad():\n",
    "        for data, target in test_loader:\n",
    "            output = model(data.to(device))\n",
    "            pred = output.cpu().softmax(1).argmax(1)\n",
    "            correct_idx = pred.masked_select((pred==target))\n",
    "            correct += torch.zeros(correct_idx.size(0),10)\\\n",
    "                                  .scatter(1,correct_idx.view(-1,1),1).sum(0)\n",
    "            total += torch.zeros(target.size(0),10).scatter(\n",
    "                1,target.view(-1,1),1).sum(0)\n",
    "            \n",
    "    percentage = correct/total\n",
    "    return percentage"
   ]
  },
  {
   "cell_type": "code",
   "execution_count": 28,
   "id": "bbd430df",
   "metadata": {},
   "outputs": [
    {
     "name": "stdout",
     "output_type": "stream",
     "text": [
      "plane \t:73.30%\n",
      "car \t:76.70%\n",
      "bird \t:51.20%\n",
      "cat \t:43.00%\n",
      "deer \t:57.30%\n",
      "dog \t:56.60%\n",
      "frog \t:74.70%\n",
      "horse \t:68.80%\n",
      "ship \t:79.00%\n",
      "truck \t:72.60%\n"
     ]
    }
   ],
   "source": [
    "percentage = cal_correct_by_class(model,test_loader,DEVICE)\n",
    "for cls_name,percent in zip(classes,percentage):\n",
    "    print('{} \\t:{:05.2f}%'.format(cls_name,percent*100))"
   ]
  },
  {
   "cell_type": "code",
   "execution_count": null,
   "id": "28fd9eac",
   "metadata": {},
   "outputs": [],
   "source": []
  }
 ],
 "metadata": {
  "kernelspec": {
   "display_name": "Python 3",
   "language": "python",
   "name": "python3"
  },
  "language_info": {
   "codemirror_mode": {
    "name": "ipython",
    "version": 3
   },
   "file_extension": ".py",
   "mimetype": "text/x-python",
   "name": "python",
   "nbconvert_exporter": "python",
   "pygments_lexer": "ipython3",
   "version": "3.8.8"
  }
 },
 "nbformat": 4,
 "nbformat_minor": 5
}
